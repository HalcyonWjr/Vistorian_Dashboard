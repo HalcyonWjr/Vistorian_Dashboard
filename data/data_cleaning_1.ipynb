{
 "cells": [
  {
   "cell_type": "markdown",
   "id": "fd5b6408",
   "metadata": {},
   "source": [
    "# For dashboard data"
   ]
  },
  {
   "cell_type": "code",
   "execution_count": 30,
   "id": "409a345c",
   "metadata": {},
   "outputs": [
    {
     "name": "stdout",
     "output_type": "stream",
     "text": [
      "<class 'dict'>\n"
     ]
    }
   ],
   "source": [
    "import json\n",
    "import datetime\n",
    "\n",
    "with open('dashboard_data_0420.json', 'r') as f:\n",
    "    data = json.load(f)\n",
    "    \n",
    "print(type(data))"
   ]
  },
  {
   "cell_type": "markdown",
   "id": "cebfc068",
   "metadata": {},
   "source": [
    "## Session Monthly Disrtibution"
   ]
  },
  {
   "cell_type": "code",
   "execution_count": 31,
   "id": "4d8ef9c2",
   "metadata": {},
   "outputs": [
    {
     "name": "stdout",
     "output_type": "stream",
     "text": [
      "[{'date': '2021-01', 'monthlyUser': 0}, {'date': '2021-02', 'monthlyUser': 31}, {'date': '2021-03', 'monthlyUser': 21}, {'date': '2021-04', 'monthlyUser': 18}, {'date': '2021-05', 'monthlyUser': 23}, {'date': '2021-06', 'monthlyUser': 50}, {'date': '2021-07', 'monthlyUser': 92}, {'date': '2021-08', 'monthlyUser': 118}, {'date': '2021-09', 'monthlyUser': 161}, {'date': '2021-10', 'monthlyUser': 125}, {'date': '2021-11', 'monthlyUser': 88}, {'date': '2021-12', 'monthlyUser': 123}, {'date': '2022-01', 'monthlyUser': 330}, {'date': '2022-02', 'monthlyUser': 607}, {'date': '2022-03', 'monthlyUser': 646}, {'date': '2022-04', 'monthlyUser': 323}, {'date': '2022-05', 'monthlyUser': 216}, {'date': '2022-06', 'monthlyUser': 268}, {'date': '2022-07', 'monthlyUser': 235}, {'date': '2022-08', 'monthlyUser': 165}, {'date': '2022-09', 'monthlyUser': 158}, {'date': '2022-10', 'monthlyUser': 181}, {'date': '2022-11', 'monthlyUser': 236}, {'date': '2022-12', 'monthlyUser': 130}, {'date': '2023-01', 'monthlyUser': 151}, {'date': '2023-02', 'monthlyUser': 168}, {'date': '2023-03', 'monthlyUser': 295}, {'date': '2023-04', 'monthlyUser': 54}, {'date': '2023-05', 'monthlyUser': 0}, {'date': '2023-06', 'monthlyUser': 0}, {'date': '2023-07', 'monthlyUser': 0}, {'date': '2023-08', 'monthlyUser': 0}, {'date': '2023-09', 'monthlyUser': 0}, {'date': '2023-10', 'monthlyUser': 0}, {'date': '2023-11', 'monthlyUser': 0}, {'date': '2023-12', 'monthlyUser': 0}]\n"
     ]
    }
   ],
   "source": [
    "import re\n",
    "from typing import Match\n",
    "year_regex = re.compile(r'[0-9]{4}')\n",
    "\n",
    "all_visitor_data_by_month: dict = data[\"allVisitsByMonth\"]\n",
    "\n",
    "# return value\n",
    "all_visitor_data_by_month_completedata: list = list()\n",
    "\n",
    "for key in all_visitor_data_by_month:\n",
    "    year_match_obj: Match = year_regex.match(key)\n",
    "\n",
    "    # the key is a 4-digit number \n",
    "    if year_match_obj:\n",
    "        value: list = all_visitor_data_by_month[key]\n",
    "        for month in range(len(value)):\n",
    "            all_visitor_data_by_month_completedata.append(\n",
    "                {'date': f'{key}-{month+1:02}', 'monthlyUser': value[month]}\n",
    "            )\n",
    "\n",
    "print(all_visitor_data_by_month_completedata)"
   ]
  },
  {
   "cell_type": "code",
   "execution_count": 32,
   "id": "62287cac",
   "metadata": {},
   "outputs": [
    {
     "name": "stdout",
     "output_type": "stream",
     "text": [
      "{'perDay': 7, 'perWeek': 49, 'perMonth': 211}\n"
     ]
    }
   ],
   "source": [
    "import datetime\n",
    "import re\n",
    "\n",
    "# yyyy-mm-dd hh:MM:ss.ffffff\n",
    "current_year = datetime.datetime.now().year\n",
    "current_month = datetime.datetime.now().month\n",
    "\n",
    "start_from_month = 12 if current_month == 1 else current_month - 1\n",
    "start_from_year = current_year if start_from_month != 12 else current_year - 1 \n",
    "\n",
    "date_key_set: list = list()\n",
    "y = start_from_year\n",
    "m = start_from_month\n",
    "for i in range(12):\n",
    "    date_key_set.append(f'{y:04}-{m:02}')\n",
    "    m = 12 if m == 1 else m - 1\n",
    "    y = y if m != 12 else y - 1\n",
    "\n",
    "def find_monthly_user_from_all_visitor_data_by_month_completedata(year_month: str) -> int:\n",
    "    global all_visitor_data_by_month_completedata\n",
    "    for value in all_visitor_data_by_month_completedata:\n",
    "        if value.get('date', None) == key:\n",
    "            return value.get('monthlyUser', False)\n",
    "\n",
    "# print(date_key_set)\n",
    "user_per_year: int = 0\n",
    "for key in date_key_set:\n",
    "    monthly_user = find_monthly_user_from_all_visitor_data_by_month_completedata(key)\n",
    "    if monthly_user:\n",
    "        user_per_year += monthly_user\n",
    "\n",
    "user_per_day = int(user_per_year/365 + 0.5) # FIXME:...\n",
    "user_per_week = int(user_per_day*7 + 0.5)\n",
    "user_per_month = int(user_per_year/12 + 0.5)\n",
    "\n",
    "usersOnline: dict = {\n",
    "    \"perDay\":user_per_day,\n",
    "    \"perWeek\":user_per_week,\n",
    "    \"perMonth\":user_per_month\n",
    "}\n",
    "\n",
    "print(usersOnline)"
   ]
  },
  {
   "cell_type": "code",
   "execution_count": 33,
   "id": "943938c3",
   "metadata": {},
   "outputs": [],
   "source": [
    "# TODO: get accurate week and day in usersOnline\n",
    "num_weeks = 52\n"
   ]
  },
  {
   "cell_type": "markdown",
   "id": "49bce653",
   "metadata": {},
   "source": [
    "## Timeline"
   ]
  },
  {
   "cell_type": "code",
   "execution_count": 34,
   "id": "03e7c884",
   "metadata": {},
   "outputs": [
    {
     "name": "stdout",
     "output_type": "stream",
     "text": [
      "[{'week': 0, 'year': '2021', 'userType': 'Demo', 'count': 0}, {'week': 0, 'year': '2022', 'userType': 'Demo', 'count': 22}, {'week': 0, 'year': '2023', 'userType': 'Demo', 'count': 11}, {'week': 1, 'year': '2021', 'userType': 'Demo', 'count': 0}, {'week': 1, 'year': '2022', 'userType': 'Demo', 'count': 19}]\n"
     ]
    }
   ],
   "source": [
    "# Timeline\n",
    "timeline = data['timeline']\n",
    "print(timeline[0:5])"
   ]
  },
  {
   "cell_type": "code",
   "execution_count": 35,
   "id": "e28db3b8",
   "metadata": {},
   "outputs": [
    {
     "name": "stdout",
     "output_type": "stream",
     "text": [
      "[{'date': '2021-01-04', 'userType': 'Demo', 'count': 0}, {'date': '2021-01-04', 'userType': 'Data_Strugglers', 'count': 0}, {'date': '2021-01-04', 'userType': 'SS_Explorers', 'count': 0}, {'date': '2021-01-04', 'userType': 'MS_Explorers', 'count': 0}, {'date': '2021-01-11', 'userType': 'Demo', 'count': 0}]\n"
     ]
    }
   ],
   "source": [
    "def week_to_date(year, week):\n",
    "    try:\n",
    "        date = datetime.date.fromisocalendar(year, week + 1, 1)\n",
    "    except ValueError:\n",
    "        # for invalid week 53\n",
    "        date = datetime.date.fromisocalendar(year, 52, 1)\n",
    "    return date.strftime('%Y-%m-%d')\n",
    "\n",
    "timeline_trans = [\n",
    "    {\n",
    "        \"date\": week_to_date(int(item['year']), item['week']),\n",
    "        \"userType\": item['userType'],\n",
    "        \"count\": item['count']\n",
    "    }\n",
    "    for item in timeline\n",
    "]\n",
    "timeline_trans = sorted(timeline_trans, key=lambda x: x['date'])\n",
    "print(timeline_trans[0:5])"
   ]
  },
  {
   "cell_type": "code",
   "execution_count": 36,
   "id": "4c8f8a65",
   "metadata": {},
   "outputs": [],
   "source": [
    "output = []\n",
    "output.append(timeline_trans)"
   ]
  },
  {
   "cell_type": "code",
   "execution_count": 37,
   "id": "02ba2ff5",
   "metadata": {},
   "outputs": [],
   "source": [
    "# with open('timeline.json', 'w') as f:\n",
    "#     json.dump(timeline_trans, f, indent=4)"
   ]
  },
  {
   "cell_type": "markdown",
   "id": "817f9039",
   "metadata": {},
   "source": [
    "## Help Resources"
   ]
  },
  {
   "cell_type": "code",
   "execution_count": 38,
   "id": "f85e4bbe",
   "metadata": {},
   "outputs": [
    {
     "name": "stdout",
     "output_type": "stream",
     "text": [
      "[{'helpResource': 'Network Manual', 'userType': 'Demo', 'count': 72}, {'helpResource': 'Network Manual', 'userType': 'Data_Strugglers', 'count': 10}, {'helpResource': 'Network Manual', 'userType': 'SS_Explorers', 'count': 72}, {'helpResource': 'Network Manual', 'userType': 'MS_Explorers', 'count': 355}, {'helpResource': 'Data Formatting', 'userType': 'Demo', 'count': 19}]\n"
     ]
    }
   ],
   "source": [
    "# Help Res\n",
    "help_resource = data['help_resouces_popularity']\n",
    "print(help_resource[0:5])"
   ]
  },
  {
   "cell_type": "code",
   "execution_count": 39,
   "id": "baa9b821",
   "metadata": {},
   "outputs": [
    {
     "name": "stdout",
     "output_type": "stream",
     "text": [
      "[{'helpResource': 'Network Manual', 'userType': 'Demo', 'count': 72, 'percbyFeature': 0.0565}, {'helpResource': 'Network Manual', 'userType': 'Data_Strugglers', 'count': 10, 'percbyFeature': 0.2564}, {'helpResource': 'Network Manual', 'userType': 'SS_Explorers', 'count': 72, 'percbyFeature': 0.2618}, {'helpResource': 'Network Manual', 'userType': 'MS_Explorers', 'count': 355, 'percbyFeature': 0.2255}, {'helpResource': 'Data Formatting', 'userType': 'Demo', 'count': 19, 'percbyFeature': 0.0149}]\n"
     ]
    }
   ],
   "source": [
    "user_type_totals = {}\n",
    "for item in help_resource:\n",
    "    user_type = item[\"userType\"]\n",
    "    count = item[\"count\"]\n",
    "    if user_type not in user_type_totals:\n",
    "        user_type_totals[user_type] = 0\n",
    "    user_type_totals[user_type] += count\n",
    "\n",
    "# Add percbyFeature to each object\n",
    "output_help_resource = []\n",
    "for item in help_resource:\n",
    "    user_type = item[\"userType\"]\n",
    "    count = item[\"count\"]\n",
    "    percbyFeature = count / user_type_totals[user_type]\n",
    "    new_item = item.copy()\n",
    "    new_item[\"percbyFeature\"] = round(percbyFeature, 4)\n",
    "    output_help_resource.append(new_item)\n",
    "\n",
    "print(output_help_resource[0:5])"
   ]
  },
  {
   "cell_type": "code",
   "execution_count": 40,
   "id": "2ff3b49b",
   "metadata": {},
   "outputs": [],
   "source": [
    "# with open('help_resource.json', 'w') as f:\n",
    "#     json.dump(output_help_resource, f, indent=4)"
   ]
  },
  {
   "cell_type": "markdown",
   "id": "1bb4fab6",
   "metadata": {},
   "source": [
    "## Exploration Time"
   ]
  },
  {
   "cell_type": "code",
   "execution_count": 41,
   "id": "846df1a8",
   "metadata": {},
   "outputs": [
    {
     "name": "stdout",
     "output_type": "stream",
     "text": [
      "[{'userType': 'Demo', 'step': 'Map', 'duration': 10.6}, {'userType': 'Data_Strugglers', 'step': 'Map', 'duration': 42.08}, {'userType': 'SS_Explorers', 'step': 'Map', 'duration': 40.08}, {'userType': 'MS_Explorers', 'step': 'Map', 'duration': 149.3}, {'userType': 'Demo', 'step': 'Mat_NL', 'duration': 18.72}]\n"
     ]
    }
   ],
   "source": [
    "userExplorationTime = []\n",
    "users = ['Demo', 'Data_Strugglers', 'SS_Explorers', 'MS_Explorers']\n",
    "\n",
    "view_list = [\n",
    "    'avergae_sessionTime_nodelink', \n",
    "    'avergae_sessionTime_matrix', \n",
    "    'avergae_sessionTime_timeline', \n",
    "    'avergae_sessionTime_map',\n",
    "    'avergae_sessionTime_matnl'\n",
    "]\n",
    "\n",
    "for view_name in view_list:\n",
    "    view = data[view_name]\n",
    "    step = view[0]['vis_type']\n",
    "    if step == 'matnl':\n",
    "        step = 'Mat_NL'\n",
    "    elif step == 'nodelink':\n",
    "        step = 'NL'\n",
    "    elif step == 'matrix':\n",
    "        step = 'Matrix'\n",
    "    elif step == 'timeline':\n",
    "        step = 'Timeline'\n",
    "    else:\n",
    "        step = 'Map'\n",
    "    \n",
    "    for item in view[1:]:\n",
    "        if item['Description'] == \"statistics on total exploration duration spent by a single user(time)\" and item['UserType'] in users:\n",
    "            userType = item['UserType']\n",
    "            duration = item['avg_numSessions']\n",
    "            userExplorationTime.append({\"userType\": userType, \"step\": step, \"duration\": duration})\n",
    "\n",
    "userExplorationTime = sorted(\n",
    "    userExplorationTime,\n",
    "    key=lambda x: (x['step'], users.index(x['userType']) if x['userType'] in users else len(users))\n",
    ")\n",
    "\n",
    "print(userExplorationTime[0:5])"
   ]
  },
  {
   "cell_type": "code",
   "execution_count": 42,
   "id": "b40d8aaa",
   "metadata": {},
   "outputs": [],
   "source": [
    "# with open('explore_matrix.json', 'w') as f:\n",
    "#     json.dump(userExplorationTime, f, indent=4)"
   ]
  },
  {
   "cell_type": "markdown",
   "id": "84bfe0e0",
   "metadata": {},
   "source": [
    "## Average Session Time"
   ]
  },
  {
   "cell_type": "code",
   "execution_count": 43,
   "id": "35c0fc90",
   "metadata": {},
   "outputs": [
    {
     "name": "stdout",
     "output_type": "stream",
     "text": [
      "{'units': 'minutes', 'allUser': 13.81, 'value': [{'userType': 'all_users', 'min': 0.08, 'q1': 1.2, 'ave': 13.81, 'q3': 17.82, 'max': 210.62}, {'userType': 'Data_Strugglers', 'min': 0.1, 'q1': 1.21, 'ave': 18.48, 'q3': 20.07, 'max': 165.29}, {'userType': 'Demo', 'min': 0.09, 'q1': 0.43, 'ave': 4.39, 'q3': 4.92, 'max': 59.57}, {'userType': 'MS_Explorers', 'min': 0.08, 'q1': 1.73, 'ave': 15.33, 'q3': 19.86, 'max': 210.62}, {'userType': 'SS_Explorers', 'min': 0.12, 'q1': 5.06, 'ave': 20.88, 'q3': 30.27, 'max': 184.58}]}\n"
     ]
    }
   ],
   "source": [
    "ave_session = data['avergae_sessionTime']\n",
    "output_sTime = {}\n",
    "\n",
    "output_sTime['units'] = 'minutes'\n",
    "output_sTime['allUser'] = ave_session[1][\"avg_sTime\"]\n",
    "output_sTime['value'] = []\n",
    "\n",
    "for obj in ave_session[1:]:\n",
    "    if obj['Description'] == \"statistics on sessions duration(time)\":\n",
    "        output_sTime['value'].append({'userType': obj['UserType'], 'min': obj['min_sTime'], 'q1': obj['q1_sTime'], 'ave': obj['avg_sTime'], 'q3': obj['q3_sTime'], 'max': obj['max_sTime']})\n",
    "\n",
    "print(output_sTime)"
   ]
  },
  {
   "cell_type": "code",
   "execution_count": 44,
   "id": "7926421e",
   "metadata": {},
   "outputs": [],
   "source": [
    "# with open('ave_session.json', 'w') as f:\n",
    "#     json.dump(output_sTime, f, indent=4)\n",
    "#     json.dump(userExplorationTime, f, indent=4)    "
   ]
  },
  {
   "cell_type": "markdown",
   "id": "7b43d864",
   "metadata": {},
   "source": [
    "# Visualization Page"
   ]
  },
  {
   "cell_type": "code",
   "execution_count": 45,
   "id": "0b178f85",
   "metadata": {},
   "outputs": [],
   "source": [
    "vis_views = [\"nodelink_users\", \"matrix_users\", \"timeline_users\", \"map_users\", \"mat_nl_users\"]\n",
    "vis_output = {}\n",
    "\n",
    "for view in vis_views:\n",
    "    vis_output[view] = {}\n",
    "    userNumber_completedata = []\n",
    "\n",
    "    for entry in data[view][1:]:\n",
    "        year_data = entry[0]\n",
    "        year = year_data['year']\n",
    "        user_per_month = year_data['userPerMonth']\n",
    "\n",
    "        for i, user_num in enumerate(user_per_month):\n",
    "            user_data = {\n",
    "                \"date\": f\"{year}-{i+1:02}\",\n",
    "                \"userNum\": user_num\n",
    "            }\n",
    "            userNumber_completedata.append(user_data)\n",
    "    vis_output[view][\"userNumber\"] = userNumber_completedata[-21: -9]\n",
    "    vis_output[view][\"userNumber_completedata\"] = userNumber_completedata"
   ]
  },
  {
   "cell_type": "code",
   "execution_count": 46,
   "id": "26ba9161",
   "metadata": {},
   "outputs": [],
   "source": [
    "# with open('vis_output.json', 'w') as f:\n",
    "#     json.dump(vis_output, f, indent=4)"
   ]
  },
  {
   "cell_type": "code",
   "execution_count": 47,
   "id": "0241260d",
   "metadata": {},
   "outputs": [],
   "source": [
    "vis_views_sTime = [\n",
    "    \"avergae_sessionTime_nodelink\", \n",
    "    \"avergae_sessionTime_matrix\", \n",
    "    \"avergae_sessionTime_timeline\", \n",
    "    \"avergae_sessionTime_map\", \n",
    "    \"avergae_sessionTime_matnl\"\n",
    "]\n",
    "\n",
    "vis_output_2 = {}\n",
    "\n",
    "for title in vis_views_sTime:\n",
    "    vis_output_2[title] = {}\n",
    "    averageSessionTime_complete = []\n",
    "\n",
    "    for entry in data[title][1:]:\n",
    "        if entry[\"Description\"] == \"statistics average session time per month\":\n",
    "            keys_list = list(entry.keys())\n",
    "            year_list = keys_list[1:]\n",
    "            for year in year_list:\n",
    "                sTime_per_month = entry[year]\n",
    "                for i, sTime in enumerate(sTime_per_month):\n",
    "                    sTime_data = {\n",
    "                        \"date\": f\"{year}-{i+1:02}\",\n",
    "                        \"sessionTime\": sTime\n",
    "                    }\n",
    "                    averageSessionTime_complete.append(sTime_data)\n",
    "        vis_output_2[title][\"averageSessionTime\"] = averageSessionTime_complete[-21: -9]\n",
    "        vis_output_2[title][\"averageSessionTime_complete\"] = averageSessionTime_complete"
   ]
  },
  {
   "cell_type": "code",
   "execution_count": 48,
   "id": "1e0219a1",
   "metadata": {},
   "outputs": [],
   "source": [
    "# with open('vis_output_2.json', 'w') as f:\n",
    "#     json.dump(vis_output_2, f, indent=4)"
   ]
  },
  {
   "cell_type": "code",
   "execution_count": 49,
   "id": "cd868cb9",
   "metadata": {},
   "outputs": [],
   "source": [
    "vis_feature_output: dict = dict()\n",
    "    \n",
    "VIS_VIEW_INSTERESTED: list = [\n",
    "    'features_used_nodelink',\n",
    "    'features_used_matrix',\n",
    "    'features_used_timeline',\n",
    "    'features_used_map',\n",
    "    'features_used_mat_nl'\n",
    "]\n",
    "    \n",
    "for vis_view_type in data:\n",
    "    if vis_view_type in VIS_VIEW_INSTERESTED:\n",
    "        vis_feature_output[vis_view_type] = list()\n",
    "\n",
    "        vis_view_type_feature_data: dict\n",
    "        for vis_view_type_feature_data in data[vis_view_type]:\n",
    "            vis_feature_output[vis_view_type].append({\n",
    "                'category': vis_view_type_feature_data.get('feature', 'unknown'),\n",
    "                'value': vis_view_type_feature_data.get('SS_Explorers', 0) + \\\n",
    "                         vis_view_type_feature_data.get('MS_Explorers', 0)\n",
    "            })\n",
    "\n",
    "# print(vis_feature_output)"
   ]
  },
  {
   "cell_type": "code",
   "execution_count": 50,
   "id": "98d50e84",
   "metadata": {},
   "outputs": [
    {
     "name": "stdout",
     "output_type": "stream",
     "text": [
      "features_used_nodelink\n",
      "features_used_matrix\n",
      "features_used_timeline\n",
      "features_used_map\n",
      "features_used_mat_nl\n",
      "[{'category': 'Time Slider', 'value': 160}, {'category': 'Link Type', 'value': 3}, {'category': 'Node Type', 'value': 1}, {'category': 'Search', 'value': 5}, {'category': 'Zoom', 'value': 271}, {'category': 'Hover', 'value': 401}]\n",
      "[{'category': 'Labelling', 'value': 281}]\n"
     ]
    }
   ],
   "source": [
    "DATA_FILTERING_KWD_RAW: list = [\n",
    "    'Time Slider',\n",
    "    'Link Type',\n",
    "    'Node Type',\n",
    "    'Search',\n",
    "    'Zoom',\n",
    "    'Hover',\n",
    "    'Select',\n",
    "    'Matrix Zoom',\n",
    "    'Matrix Labelling'\n",
    "]\n",
    "    \n",
    "FORMATTING_KWD_RAW: list = [\n",
    "    'Edge Gap',\n",
    "    'Labelling',\n",
    "    'Link Opacity',\n",
    "    'Link Width',\n",
    "    'Node Opacity',\n",
    "    'Node Size',\n",
    "    'Node Overlap',\n",
    "    'PositionlessNode Opacity'\n",
    "]\n",
    "    \n",
    "# to lower \n",
    "DATA_FILTERING_KWD: list = [feature.lower() for feature in DATA_FILTERING_KWD_RAW]\n",
    "FORMATTING_KWD: list = [feature.lower() for feature in FORMATTING_KWD_RAW]\n",
    "\n",
    "# intermediate values \n",
    "data_filtering_list: list = list()\n",
    "formatting_list: list = list()\n",
    "\n",
    "vis_feature_output_data_filtering_and_formatting_only: dict = dict()\n",
    "    \n",
    "vis_view_type: str\n",
    "vis_view_values: list\n",
    "for vis_view_type, vis_view_values in vis_feature_output.items():\n",
    "    print(vis_view_type)\n",
    "    data_filtering_list: list = list()\n",
    "    formatting_list: list = list()\n",
    "        \n",
    "    value: dict \n",
    "    for value in vis_view_values:\n",
    "        if value['category'].lower() in DATA_FILTERING_KWD:\n",
    "            data_filtering_list.append(value)\n",
    "        elif value['category'].lower() in FORMATTING_KWD:\n",
    "            formatting_list.append(value) \n",
    "        else:\n",
    "            pass \n",
    "    \n",
    "    vis_feature_output_data_filtering_and_formatting_only[vis_view_type] = {\n",
    "        'dataFiltering': data_filtering_list, \n",
    "        'Fomatting': formatting_list\n",
    "    }\n",
    "\n",
    "print(vis_feature_output_data_filtering_and_formatting_only[\"features_used_matrix\"][\"dataFiltering\"])\n",
    "print(vis_feature_output_data_filtering_and_formatting_only[\"features_used_matrix\"][\"Fomatting\"])\n"
   ]
  },
  {
   "cell_type": "code",
   "execution_count": 51,
   "id": "a505313a",
   "metadata": {},
   "outputs": [],
   "source": [
    "# with open('vis_feature_output.json', 'w') as f:\n",
    "#     json.dump(vis_feature_output_data_filtering_and_formatting_only, f, indent=4)"
   ]
  },
  {
   "cell_type": "code",
   "execution_count": 52,
   "id": "a2ec9499",
   "metadata": {},
   "outputs": [],
   "source": [
    "dicts = [\n",
    "    vis_output, \n",
    "    vis_output_2,\n",
    "    vis_feature_output_data_filtering_and_formatting_only \n",
    "]\n",
    "\n",
    "new_keys = [\"nodelink\", \"matrix\", \"timeline\", \"geolocation\", \"coordinated\"]\n",
    "\n",
    "combined_dict = {key: {} for key in new_keys}\n",
    "\n",
    "# Zip all\n",
    "for d in dicts:\n",
    "    old_keys = list(d.keys())\n",
    "    for old_key, new_key in zip(old_keys, new_keys):\n",
    "        combined_dict[new_key].update(d[old_key])"
   ]
  },
  {
   "cell_type": "code",
   "execution_count": null,
   "id": "1eb94711",
   "metadata": {},
   "outputs": [],
   "source": []
  },
  {
   "cell_type": "code",
   "execution_count": 53,
   "id": "2782417e",
   "metadata": {},
   "outputs": [],
   "source": [
    "# Get avg_sTime, Total_num_sessions\n",
    "vis_avg_sTime_output: dict = dict()\n",
    "vis_total_num_output: dict = dict()\n",
    "    \n",
    "for title in vis_views_sTime:\n",
    "    view_title = title.split(\"_\")[-1]\n",
    "    \n",
    "    for entry in data[title][1:]:\n",
    "        \n",
    "        if entry[\"Description\"] == \"statistics on sessions count(number)\" \\\n",
    "        and \"all_\" in entry[\"UserType\"]:\n",
    "            vis_total_num_output[view_title] = entry[\"Total_num_sessions\"]\n",
    "        \n",
    "        elif entry[\"Description\"] == \"statistics on sessions duration(time)\" \\\n",
    "        and \"all_\" in entry[\"UserType\"]:\n",
    "            vis_avg_sTime_output[view_title] = entry[\"avg_sTime\"]\n",
    "\n",
    "combined_dict[\"avg_sTime\"] = vis_avg_sTime_output\n",
    "combined_dict[\"Total_num_sessions\"] = vis_total_num_output\n",
    "\n",
    "with open('vis_all.json', 'w') as f:\n",
    "    json.dump(combined_dict, f, indent=4)"
   ]
  },
  {
   "cell_type": "code",
   "execution_count": null,
   "id": "4d685aee",
   "metadata": {},
   "outputs": [],
   "source": []
  }
 ],
 "metadata": {
  "kernelspec": {
   "display_name": "Python 3 (ipykernel)",
   "language": "python",
   "name": "python3"
  },
  "language_info": {
   "codemirror_mode": {
    "name": "ipython",
    "version": 3
   },
   "file_extension": ".py",
   "mimetype": "text/x-python",
   "name": "python",
   "nbconvert_exporter": "python",
   "pygments_lexer": "ipython3",
   "version": "3.9.13"
  },
  "vscode": {
   "interpreter": {
    "hash": "147c5539518eeb5161f6b15c93e439a76b373033cbda64c0b8f8e70c8ee9a8ef"
   }
  }
 },
 "nbformat": 4,
 "nbformat_minor": 5
}
